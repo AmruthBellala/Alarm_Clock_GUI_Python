{
 "cells": [
  {
   "cell_type": "code",
   "execution_count": 5,
   "metadata": {},
   "outputs": [],
   "source": [
    "\n",
    "#Importing all the necessary libraries to form the alarm clock:\n",
    "from tkinter import *\n",
    "import datetime\n",
    "import time\n",
    "import winsound\n",
    "\n",
    "\n",
    "#Defining the While loop for the alarm\n",
    "def alarm(set_alarm_timer):\n",
    "    while True:\n",
    "        time.sleep(1)\n",
    "        current_time = datetime.datetime.now()\n",
    "        now = current_time.strftime(\"%H:%M:%S\")\n",
    "        date = current_time.strftime(\"%d/%m/%Y\")\n",
    "        print(\"The Set Date is:\",date)\n",
    "        print(now)\n",
    "        if now == set_alarm_timer:\n",
    "            print(\"Time to Wake up\")\n",
    "            winsound.PlaySound(\"sound.wav\",winsound.SND_ASYNC)\n",
    "            break\n",
    "\n",
    "def actual_time():\n",
    "    set_alarm_timer = f\"{hour.get()}:{min.get()}:{sec.get()}\"\n",
    "    alarm(set_alarm_timer)\n",
    "\n",
    "clock = Tk()\n",
    "clock.title(\"Local Techies Alarm Clock\")\n",
    "\n",
    "clock.geometry(\"400x200\")\n",
    "time_format=Label(clock, text= \"Enter time in 24 hour format!\", fg=\"blue\",bg=\"orange\",font=\"Arial\").place(x=60,y=120)\n",
    "addTime = Label(clock,text = \"Hour  Min   Sec\",font=60).place(x = 110)\n",
    "setYourAlarm = Label(clock,text = \"ALert Time\",fg=\"blue\",relief = \"solid\",font=(\"Helevetica\",7,\"bold\")).place(x=0, y=29)\n",
    "\n",
    "# The Variables we require to set the alarm(initialization):\n",
    "hour = StringVar()\n",
    "min = StringVar()\n",
    "sec = StringVar()\n",
    "\n",
    "#Time required to set the alarm clock:\n",
    "hourTime= Entry(clock,textvariable = hour,bg = \"pink\",width = 15).place(x=110,y=30)\n",
    "minTime= Entry(clock,textvariable = min,bg = \"pink\",width = 15).place(x=150,y=30)\n",
    "secTime = Entry(clock,textvariable = sec,bg = \"pink\",width = 15).place(x=200,y=30)\n",
    "\n",
    "#To take the time input by user:\n",
    "submit = Button(clock,text = \"Set Alarm\",fg=\"orange\",width = 10,command = actual_time).place(x =110,y=70)\n",
    "\n",
    "clock.mainloop()"
   ]
  },
  {
   "cell_type": "code",
   "execution_count": null,
   "metadata": {},
   "outputs": [],
   "source": []
  }
 ],
 "metadata": {
  "kernelspec": {
   "display_name": "Python 3",
   "language": "python",
   "name": "python3"
  },
  "language_info": {
   "codemirror_mode": {
    "name": "ipython",
    "version": 3
   },
   "file_extension": ".py",
   "mimetype": "text/x-python",
   "name": "python",
   "nbconvert_exporter": "python",
   "pygments_lexer": "ipython3",
   "version": "3.8.3"
  }
 },
 "nbformat": 4,
 "nbformat_minor": 4
}
